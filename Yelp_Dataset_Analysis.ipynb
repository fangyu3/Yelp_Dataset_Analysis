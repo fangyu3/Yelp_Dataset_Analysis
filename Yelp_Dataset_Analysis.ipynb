{
 "cells": [
  {
   "cell_type": "code",
   "execution_count": 1,
   "metadata": {},
   "outputs": [],
   "source": [
    "# CONFIGURATION\n",
    "import json\n",
    "import pymysql\n",
    "import pandas as pd\n",
    "\n",
    "credentials = json.load(open('credentials.json','r'))\n",
    "connection = pymysql.connect(host=credentials['host'], user=credentials['user'], password=credentials['password'], database=credentials['database'])\n",
    "cursor=connection.cursor()            "
   ]
  },
  {
   "cell_type": "code",
   "execution_count": null,
   "metadata": {},
   "outputs": [],
   "source": [
    "# CREATE BUSINESS TABLE\n",
    "cursor.execute('''CREATE TABLE IF NOT EXISTS business  \n",
    "            (id VARCHAR(32) PRIMARY KEY \n",
    "            ,name VARCHAR(255)\n",
    "            ,address VARCHAR(255)\n",
    "            ,city VARCHAR(255)\n",
    "            ,state VARCHAR(32)\n",
    "            ,stars FLOAT\n",
    "            ,review_count INT\n",
    "            ,reservations BOOL DEFAULT NULL\n",
    "            ,take_out BOOL DEFAULT NULL\n",
    "            ,delivery BOOL DEFAULT NULL\n",
    "            ,price_range VARCHAR(32) DEFAULT NULL);''')"
   ]
  },
  {
   "cell_type": "code",
   "execution_count": null,
   "metadata": {},
   "outputs": [],
   "source": [
    "# INSERT BUSINESS TABLE\n",
    "\n",
    "# Canadian Provinces\n",
    "# prov = ['AB','BC','MB','NB','NL','NT','NS','NU','ON','PE','QC','SK','YT','NF']\n",
    "\n",
    "for line in open('business.json', 'r'):\n",
    "    business = json.loads(line)\n",
    "    if business['attributes']:\n",
    "        args = (business['business_id'],business['name'],business['address'],business['city'],business['state'],business['stars'],business['review_count'],(business['attributes'].get('RestaurantsReservations','False'))== 'True',(business['attributes'].get('RestaurantsTakeOut','False'))=='True',(business['attributes'].get('RestaurantsDelivery','False'))=='True',business['attributes'].get('RestaurantsPriceRange2',None))\n",
    "    else:\n",
    "        args = (business['business_id'],business['name'],business['address'],business['city'],business['state'],business['stars'],business['review_count'],None,None,None,None)\n",
    "\n",
    "    cursor.execute('''INSERT INTO business (id, name, address, city, state, stars, review_count, reservations, take_out, delivery, price_range) VALUES (%s,%s,%s,%s,%s,%s,%s,%s,%s,%s,%s);''', args)\n",
    "\n",
    "connection.commit() "
   ]
  },
  {
   "cell_type": "code",
   "execution_count": null,
   "metadata": {},
   "outputs": [],
   "source": [
    "# CREATE REVIEW TABLE\n",
    "cursor.execute('''CREATE TABLE IF NOT EXISTS review  \n",
    "            (id VARCHAR(32) PRIMARY KEY \n",
    "            ,user_id VARCHAR(32)\n",
    "            ,business_id VARCHAR(32)\n",
    "            ,stars FLOAT\n",
    "            ,date DATETIME\n",
    "            ,text TEXT\n",
    "            ,useful INT\n",
    "            ,funny INT\n",
    "            ,cool INT);''') "
   ]
  },
  {
   "cell_type": "code",
   "execution_count": null,
   "metadata": {},
   "outputs": [],
   "source": [
    "# INSERT REVIEW TABLE\n",
    "for line in open('review.json', 'r'):\n",
    "    review = json.loads(line)\n",
    "    args = (review['review_id'],review['user_id'],review['business_id'],review['stars'],review['date'],review['text'],review['useful'],review['funny'],review['cool'])\n",
    "    cursor.execute('''INSERT INTO review (id, user_id, business_id, stars, date, text, useful, funny, cool) VALUES (%s,%s,%s,%s,%s,%s,%s,%s,%s);''', args)\n",
    "\n",
    "connection.commit()"
   ]
  },
  {
   "cell_type": "code",
   "execution_count": null,
   "metadata": {},
   "outputs": [],
   "source": [
    "# CREATE USER TABLE\n",
    "cursor.execute('''CREATE TABLE IF NOT EXISTS user  \n",
    "            (id VARCHAR(32) PRIMARY KEY \n",
    "            ,name VARCHAR(32)\n",
    "            ,review_count INT\n",
    "            ,yelping_since DATETIME\n",
    "            ,useful INT\n",
    "            ,funny INT\n",
    "            ,cool INT\n",
    "            ,fans INT\n",
    "            ,average_stars FLOAT\n",
    "            );''') "
   ]
  },
  {
   "cell_type": "code",
   "execution_count": null,
   "metadata": {},
   "outputs": [],
   "source": [
    "# INSERT USER TABLE\n",
    "for line in open('user.json', 'r'):\n",
    "    user = json.loads(line)\n",
    "    args = (user['user_id'],user['name'],user['review_count'],user['yelping_since'],user['useful'],user['funny'],user['cool'],user['fans'],user['average_stars'])\n",
    "    cursor.execute('''INSERT INTO user (id, name, review_count, yelping_since, useful, funny, cool, fans, average_stars) VALUES (%s,%s,%s,%s,%s,%s,%s,%s,%s);''', args)\n",
    "\n",
    "connection.commit()"
   ]
  },
  {
   "cell_type": "markdown",
   "metadata": {},
   "source": [
    "# SECTION 1 - ANALYSIS"
   ]
  },
  {
   "cell_type": "markdown",
   "metadata": {},
   "source": [
    "### Q2: Top 10 restaurants in Toronto with the highest popularity. You are free to define your ‘popularity’, as long as it can convince people"
   ]
  },
  {
   "cell_type": "code",
   "execution_count": 2,
   "metadata": {},
   "outputs": [
    {
     "name": "stdout",
     "output_type": "stream",
     "text": [
      "<class 'pandas.core.frame.DataFrame'>\n",
      "RangeIndex: 33412 entries, 0 to 33411\n",
      "Data columns (total 11 columns):\n",
      "id              33412 non-null object\n",
      "name            33412 non-null object\n",
      "address         33412 non-null object\n",
      "city            33412 non-null object\n",
      "state           33412 non-null object\n",
      "stars           33412 non-null float64\n",
      "review_count    33412 non-null int64\n",
      "reservations    27874 non-null float64\n",
      "take_out        27874 non-null float64\n",
      "delivery        27874 non-null float64\n",
      "price_range     23196 non-null object\n",
      "dtypes: float64(4), int64(1), object(6)\n",
      "memory usage: 2.8+ MB\n"
     ]
    }
   ],
   "source": [
    "query = \"SELECT * FROM business WHERE STATE = 'ON'\"\n",
    "df_ON = pd.read_sql(query, connection)\n",
    "df_ON.info()"
   ]
  },
  {
   "cell_type": "code",
   "execution_count": 3,
   "metadata": {},
   "outputs": [
    {
     "data": {
      "text/plain": [
       "array(['Etobicoke', 'Toronto', 'Mississauga', 'Richmond Hill',\n",
       "       'Thornhill', 'Whitby', 'Scarborough', 'Markham', 'Stouffville',\n",
       "       'Vaughan', 'Brampton', 'Newmarket', 'North York', 'Ajax',\n",
       "       'Pickering', 'Brooklin', 'Caledon', 'East Mississauga',\n",
       "       'Whitchurch-Stouffville', 'Woodbridge', 'York', 'Missisauga',\n",
       "       'Bolton', 'Aurora', 'Oakville', 'Bradford West Gwillimbury',\n",
       "       'Georgetown', 'East Ajax', 'East York', 'RIchmond Hill',\n",
       "       'Downtown Toronto', 'Unionville', 'East Gwillimbury', 'King City',\n",
       "       'Maple', 'Milton', 'Caledon East', 'Concord', 'Gormley',\n",
       "       'Bradford', 'Toronto-Etobicoke', 'Ashburn', 'Holland Landing',\n",
       "       'Halton Hills', 'Kleinburg', 'Etobicoke,', 'Beeton', 'NorthYork',\n",
       "       'Cooksville', 'Rexdale', 'King', 'Mississaugua', 'Uxbridge',\n",
       "       'Etobiicoke', 'Willowdale', 'Mount Albert', 'Mississagua',\n",
       "       'Schomberg', 'toronto', 'East Hawkesbury', 'Richmonhill', 'Zephyr',\n",
       "       'Nobleton', 'Toronto-West', 'Clarkson',\n",
       "       'Durham Regional Municipality', 'Inglewood', 'Yorkdale', 'TORONTO',\n",
       "       'Weston', 'Richmond Hil', 'Oak Ridges', 'NEWMARKET', 'Kettleby',\n",
       "       'Yorkville', 'Sharon', 'Mississauaga', 'Port Credit',\n",
       "       'Mississauge', 'Streetsville', 'North york', 'Hamilton',\n",
       "       'North of Brampton', 'Thorncliffe Park', 'Centre Island',\n",
       "       'Scarbrough', 'Malton', 'Caledon Village', 'Palgrave', 'Don Mills',\n",
       "       'Vaughn', 'East Gwilimbury', 'Ansnorveldt', 'New Tecumseth',\n",
       "       'Goodwood', 'East Credit', 'Glen Williams', 'North  York',\n",
       "       'River Drive Park', 'Oakridges', 'Tornto', 'Scarobrough',\n",
       "       'Pickering Ajax Whitby', 'Markham, ON', 'Whiitby', 'SCARBOROUGH',\n",
       "       'York Regional Municipality', 'Regional Municipality of York',\n",
       "       'Thornhil', 'Downsview', 'AGINCOURT', 'Burlington', 'markham',\n",
       "       'Waterloo', 'Toronto Division', 'THORNHILL', 'ETOBICOKE',\n",
       "       'Etibicoke', 'Vaughan Mills', 'Claremont', 'Northyork', 'Whtiby',\n",
       "       'Queensville', 'North Toronto', 'Leslieville', 'NORTH YORK',\n",
       "       'West Toronto', 'Agincourt', 'Mississuaga', 'Toronto Scarborough',\n",
       "       'Leaside', 'Oshawa', 'Bond Head', 'etobicoke', 'Tottenham',\n",
       "       'oakville', 'Toronto-North York', 'Norval', 'Woodbridge (Vaughan)'],\n",
       "      dtype=object)"
      ]
     },
     "execution_count": 3,
     "metadata": {},
     "output_type": "execute_result"
    }
   ],
   "source": [
    "city = df_ON['city'].unique()\n",
    "## Display all city in ON\n",
    "city"
   ]
  },
  {
   "cell_type": "code",
   "execution_count": 4,
   "metadata": {},
   "outputs": [
    {
     "data": {
      "text/html": [
       "<div>\n",
       "<style scoped>\n",
       "    .dataframe tbody tr th:only-of-type {\n",
       "        vertical-align: middle;\n",
       "    }\n",
       "\n",
       "    .dataframe tbody tr th {\n",
       "        vertical-align: top;\n",
       "    }\n",
       "\n",
       "    .dataframe thead th {\n",
       "        text-align: right;\n",
       "    }\n",
       "</style>\n",
       "<table border=\"1\" class=\"dataframe\">\n",
       "  <thead>\n",
       "    <tr style=\"text-align: right;\">\n",
       "      <th></th>\n",
       "      <th>id</th>\n",
       "      <th>name</th>\n",
       "      <th>address</th>\n",
       "      <th>city</th>\n",
       "      <th>state</th>\n",
       "      <th>stars</th>\n",
       "      <th>review_count</th>\n",
       "      <th>reservations</th>\n",
       "      <th>take_out</th>\n",
       "      <th>delivery</th>\n",
       "      <th>price_range</th>\n",
       "    </tr>\n",
       "  </thead>\n",
       "  <tbody>\n",
       "    <tr>\n",
       "      <td>0</td>\n",
       "      <td>__47_7H-yK3HChO5vyut_Q</td>\n",
       "      <td>Instant Muffler and Autorepair</td>\n",
       "      <td>395 Rexdale Boulevard</td>\n",
       "      <td>Etobicoke</td>\n",
       "      <td>ON</td>\n",
       "      <td>1.0</td>\n",
       "      <td>3</td>\n",
       "      <td>NaN</td>\n",
       "      <td>NaN</td>\n",
       "      <td>NaN</td>\n",
       "      <td>None</td>\n",
       "    </tr>\n",
       "    <tr>\n",
       "      <td>1</td>\n",
       "      <td>__8j8yhsmE98wNWHJNyAgw</td>\n",
       "      <td>Urawa Sushi</td>\n",
       "      <td>254 Adelaide Street W</td>\n",
       "      <td>Toronto</td>\n",
       "      <td>ON</td>\n",
       "      <td>3.0</td>\n",
       "      <td>86</td>\n",
       "      <td>1.0</td>\n",
       "      <td>1.0</td>\n",
       "      <td>1.0</td>\n",
       "      <td>2</td>\n",
       "    </tr>\n",
       "    <tr>\n",
       "      <td>2</td>\n",
       "      <td>__bqGGnOjtY9eEhrZAUsgA</td>\n",
       "      <td>Galangal Thai Fusion</td>\n",
       "      <td>51 Colborne Street</td>\n",
       "      <td>Toronto</td>\n",
       "      <td>ON</td>\n",
       "      <td>3.0</td>\n",
       "      <td>20</td>\n",
       "      <td>0.0</td>\n",
       "      <td>1.0</td>\n",
       "      <td>1.0</td>\n",
       "      <td>2</td>\n",
       "    </tr>\n",
       "    <tr>\n",
       "      <td>3</td>\n",
       "      <td>__CQ2SE4NXFFjYfrB_TJ6w</td>\n",
       "      <td>St. Gabriel Medical Clinic</td>\n",
       "      <td>650 Sheppard Avenue E</td>\n",
       "      <td>Toronto</td>\n",
       "      <td>ON</td>\n",
       "      <td>3.0</td>\n",
       "      <td>6</td>\n",
       "      <td>0.0</td>\n",
       "      <td>0.0</td>\n",
       "      <td>0.0</td>\n",
       "      <td>None</td>\n",
       "    </tr>\n",
       "    <tr>\n",
       "      <td>4</td>\n",
       "      <td>__knKZ9CUX3L9JBPVwAXEg</td>\n",
       "      <td>Lunch Bag</td>\n",
       "      <td>2601 Matheson Boulevard E</td>\n",
       "      <td>Mississauga</td>\n",
       "      <td>ON</td>\n",
       "      <td>3.0</td>\n",
       "      <td>3</td>\n",
       "      <td>NaN</td>\n",
       "      <td>NaN</td>\n",
       "      <td>NaN</td>\n",
       "      <td>None</td>\n",
       "    </tr>\n",
       "  </tbody>\n",
       "</table>\n",
       "</div>"
      ],
      "text/plain": [
       "                       id                            name  \\\n",
       "0  __47_7H-yK3HChO5vyut_Q  Instant Muffler and Autorepair   \n",
       "1  __8j8yhsmE98wNWHJNyAgw                     Urawa Sushi   \n",
       "2  __bqGGnOjtY9eEhrZAUsgA            Galangal Thai Fusion   \n",
       "3  __CQ2SE4NXFFjYfrB_TJ6w      St. Gabriel Medical Clinic   \n",
       "4  __knKZ9CUX3L9JBPVwAXEg                       Lunch Bag   \n",
       "\n",
       "                     address         city state  stars  review_count  \\\n",
       "0      395 Rexdale Boulevard    Etobicoke    ON    1.0             3   \n",
       "1      254 Adelaide Street W      Toronto    ON    3.0            86   \n",
       "2         51 Colborne Street      Toronto    ON    3.0            20   \n",
       "3      650 Sheppard Avenue E      Toronto    ON    3.0             6   \n",
       "4  2601 Matheson Boulevard E  Mississauga    ON    3.0             3   \n",
       "\n",
       "   reservations  take_out  delivery price_range  \n",
       "0           NaN       NaN       NaN        None  \n",
       "1           1.0       1.0       1.0           2  \n",
       "2           0.0       1.0       1.0           2  \n",
       "3           0.0       0.0       0.0        None  \n",
       "4           NaN       NaN       NaN        None  "
      ]
     },
     "execution_count": 4,
     "metadata": {},
     "output_type": "execute_result"
    }
   ],
   "source": [
    "# Filter for restaurants in TORONTO\n",
    "df_TOR = df_ON.loc[df_ON['city'].isin(['Etobicoke', 'Toronto', 'Mississauga', 'Richmond Hill','Thornhill', 'Scarborough', 'Markham',\n",
    "       'Vaughan', 'North York','East Mississauga','York', 'Missisauga', 'East York', 'RIchmond Hill',\n",
    "       'Downtown Toronto', 'Unionville','Toronto-Etobicoke', \n",
    "       'Etobicoke,', 'NorthYork','Mississaugua', 'Etobiicoke', 'Willowdale', 'Mississagua','toronto', 'Richmonhill','Toronto-West',  'Yorkdale', 'TORONTO',\n",
    "      'Richmond Hil','Yorkville',  'Mississauaga',\n",
    "       'Mississauge', 'North york', 'Centre Island',\n",
    "       'Scarbrough',  'Don Mills',\n",
    "       'Vaughn','North  York', 'Tornto', 'Scarobrough',\n",
    "        'Markham, ON', 'SCARBOROUGH',\n",
    "       'York Regional Municipality', 'Regional Municipality of York',\n",
    "       'Thornhil', 'Downsview', 'AGINCOURT', 'markham',\n",
    "       'Toronto Division', 'THORNHILL', 'ETOBICOKE',\n",
    "       'Etibicoke', 'Vaughan Mills', 'Northyork', \n",
    "        'North Toronto',  'NORTH YORK',\n",
    "       'West Toronto', 'Agincourt', 'Mississuaga', 'Toronto Scarborough',\n",
    "       'etobicoke', 'Toronto-North York', 'Woodbridge (Vaughan)'])]\n",
    "\n",
    "df_TOR.head(5)"
   ]
  },
  {
   "cell_type": "code",
   "execution_count": 5,
   "metadata": {},
   "outputs": [
    {
     "data": {
      "text/html": [
       "<div>\n",
       "<style scoped>\n",
       "    .dataframe tbody tr th:only-of-type {\n",
       "        vertical-align: middle;\n",
       "    }\n",
       "\n",
       "    .dataframe tbody tr th {\n",
       "        vertical-align: top;\n",
       "    }\n",
       "\n",
       "    .dataframe thead th {\n",
       "        text-align: right;\n",
       "    }\n",
       "</style>\n",
       "<table border=\"1\" class=\"dataframe\">\n",
       "  <thead>\n",
       "    <tr style=\"text-align: right;\">\n",
       "      <th></th>\n",
       "      <th>id</th>\n",
       "      <th>name</th>\n",
       "      <th>address</th>\n",
       "      <th>city</th>\n",
       "      <th>state</th>\n",
       "      <th>stars</th>\n",
       "      <th>review_count</th>\n",
       "      <th>reservations</th>\n",
       "      <th>take_out</th>\n",
       "      <th>delivery</th>\n",
       "      <th>price_range</th>\n",
       "    </tr>\n",
       "  </thead>\n",
       "  <tbody>\n",
       "    <tr>\n",
       "      <td>24032</td>\n",
       "      <td>r_BrIgzYcwo1NAuG9dLbpg</td>\n",
       "      <td>Pai Northern Thai Kitchen</td>\n",
       "      <td>18 Duncan Street</td>\n",
       "      <td>Toronto</td>\n",
       "      <td>ON</td>\n",
       "      <td>4.5</td>\n",
       "      <td>2121</td>\n",
       "      <td>1.0</td>\n",
       "      <td>1.0</td>\n",
       "      <td>1.0</td>\n",
       "      <td>2</td>\n",
       "    </tr>\n",
       "    <tr>\n",
       "      <td>6801</td>\n",
       "      <td>aLcFhMe6DDJ430zelCpd2A</td>\n",
       "      <td>Khao San Road</td>\n",
       "      <td>11 Charlotte Street</td>\n",
       "      <td>Toronto</td>\n",
       "      <td>ON</td>\n",
       "      <td>4.0</td>\n",
       "      <td>1410</td>\n",
       "      <td>0.0</td>\n",
       "      <td>1.0</td>\n",
       "      <td>1.0</td>\n",
       "      <td>2</td>\n",
       "    </tr>\n",
       "    <tr>\n",
       "      <td>24851</td>\n",
       "      <td>RtUvSWO_UZ8V3Wpj0n077w</td>\n",
       "      <td>KINKA IZAKAYA ORIGINAL</td>\n",
       "      <td>398 Church St</td>\n",
       "      <td>Toronto</td>\n",
       "      <td>ON</td>\n",
       "      <td>4.0</td>\n",
       "      <td>1397</td>\n",
       "      <td>1.0</td>\n",
       "      <td>1.0</td>\n",
       "      <td>0.0</td>\n",
       "      <td>2</td>\n",
       "    </tr>\n",
       "    <tr>\n",
       "      <td>15073</td>\n",
       "      <td>iGEvDk6hsizigmXhDKs2Vg</td>\n",
       "      <td>Seven Lives Tacos Y Mariscos</td>\n",
       "      <td>69 Kensington Avenue</td>\n",
       "      <td>Toronto</td>\n",
       "      <td>ON</td>\n",
       "      <td>4.5</td>\n",
       "      <td>1152</td>\n",
       "      <td>0.0</td>\n",
       "      <td>1.0</td>\n",
       "      <td>0.0</td>\n",
       "      <td>1</td>\n",
       "    </tr>\n",
       "    <tr>\n",
       "      <td>20040</td>\n",
       "      <td>N93EYZy9R0sdlEvubu94ig</td>\n",
       "      <td>Banh Mi Boys</td>\n",
       "      <td>392 Queen Street W</td>\n",
       "      <td>Toronto</td>\n",
       "      <td>ON</td>\n",
       "      <td>4.5</td>\n",
       "      <td>1045</td>\n",
       "      <td>0.0</td>\n",
       "      <td>1.0</td>\n",
       "      <td>0.0</td>\n",
       "      <td>1</td>\n",
       "    </tr>\n",
       "    <tr>\n",
       "      <td>24929</td>\n",
       "      <td>RwRNR4z3kY-4OsFqigY5sw</td>\n",
       "      <td>Uncle Tetsu's Japanese Cheesecake</td>\n",
       "      <td>598 Bay Street</td>\n",
       "      <td>Toronto</td>\n",
       "      <td>ON</td>\n",
       "      <td>3.5</td>\n",
       "      <td>939</td>\n",
       "      <td>0.0</td>\n",
       "      <td>1.0</td>\n",
       "      <td>0.0</td>\n",
       "      <td>1</td>\n",
       "    </tr>\n",
       "    <tr>\n",
       "      <td>32756</td>\n",
       "      <td>zgQHtqX0gqMw1nlBZl2VnQ</td>\n",
       "      <td>Momofuku Noodle Bar</td>\n",
       "      <td>190 University Avenue, Ground Floor</td>\n",
       "      <td>Toronto</td>\n",
       "      <td>ON</td>\n",
       "      <td>3.0</td>\n",
       "      <td>897</td>\n",
       "      <td>1.0</td>\n",
       "      <td>1.0</td>\n",
       "      <td>1.0</td>\n",
       "      <td>2</td>\n",
       "    </tr>\n",
       "    <tr>\n",
       "      <td>27334</td>\n",
       "      <td>uAAWlLdsoUf872F1FKiX1A</td>\n",
       "      <td>Bang Bang Ice Cream and Bakery</td>\n",
       "      <td>93a Ossington Avenue</td>\n",
       "      <td>Toronto</td>\n",
       "      <td>ON</td>\n",
       "      <td>4.0</td>\n",
       "      <td>894</td>\n",
       "      <td>0.0</td>\n",
       "      <td>1.0</td>\n",
       "      <td>0.0</td>\n",
       "      <td>2</td>\n",
       "    </tr>\n",
       "    <tr>\n",
       "      <td>627</td>\n",
       "      <td>-av1lZI1JDY_RZN2eTMnWg</td>\n",
       "      <td>Salad King Restaurant</td>\n",
       "      <td>340 Yonge Street</td>\n",
       "      <td>Toronto</td>\n",
       "      <td>ON</td>\n",
       "      <td>3.5</td>\n",
       "      <td>876</td>\n",
       "      <td>1.0</td>\n",
       "      <td>1.0</td>\n",
       "      <td>0.0</td>\n",
       "      <td>2</td>\n",
       "    </tr>\n",
       "    <tr>\n",
       "      <td>792</td>\n",
       "      <td>-kG0N8sBhBotMbu0KVSPaw</td>\n",
       "      <td>Toronto Pearson International Airport</td>\n",
       "      <td>3111 Convair Drive</td>\n",
       "      <td>Mississauga</td>\n",
       "      <td>ON</td>\n",
       "      <td>3.0</td>\n",
       "      <td>862</td>\n",
       "      <td>0.0</td>\n",
       "      <td>0.0</td>\n",
       "      <td>0.0</td>\n",
       "      <td>3</td>\n",
       "    </tr>\n",
       "  </tbody>\n",
       "</table>\n",
       "</div>"
      ],
      "text/plain": [
       "                           id                                   name  \\\n",
       "24032  r_BrIgzYcwo1NAuG9dLbpg              Pai Northern Thai Kitchen   \n",
       "6801   aLcFhMe6DDJ430zelCpd2A                          Khao San Road   \n",
       "24851  RtUvSWO_UZ8V3Wpj0n077w                 KINKA IZAKAYA ORIGINAL   \n",
       "15073  iGEvDk6hsizigmXhDKs2Vg           Seven Lives Tacos Y Mariscos   \n",
       "20040  N93EYZy9R0sdlEvubu94ig                           Banh Mi Boys   \n",
       "24929  RwRNR4z3kY-4OsFqigY5sw      Uncle Tetsu's Japanese Cheesecake   \n",
       "32756  zgQHtqX0gqMw1nlBZl2VnQ                    Momofuku Noodle Bar   \n",
       "27334  uAAWlLdsoUf872F1FKiX1A         Bang Bang Ice Cream and Bakery   \n",
       "627    -av1lZI1JDY_RZN2eTMnWg                  Salad King Restaurant   \n",
       "792    -kG0N8sBhBotMbu0KVSPaw  Toronto Pearson International Airport   \n",
       "\n",
       "                                   address         city state  stars  \\\n",
       "24032                     18 Duncan Street      Toronto    ON    4.5   \n",
       "6801                   11 Charlotte Street      Toronto    ON    4.0   \n",
       "24851                        398 Church St      Toronto    ON    4.0   \n",
       "15073                 69 Kensington Avenue      Toronto    ON    4.5   \n",
       "20040                   392 Queen Street W      Toronto    ON    4.5   \n",
       "24929                       598 Bay Street      Toronto    ON    3.5   \n",
       "32756  190 University Avenue, Ground Floor      Toronto    ON    3.0   \n",
       "27334                 93a Ossington Avenue      Toronto    ON    4.0   \n",
       "627                       340 Yonge Street      Toronto    ON    3.5   \n",
       "792                     3111 Convair Drive  Mississauga    ON    3.0   \n",
       "\n",
       "       review_count  reservations  take_out  delivery price_range  \n",
       "24032          2121           1.0       1.0       1.0           2  \n",
       "6801           1410           0.0       1.0       1.0           2  \n",
       "24851          1397           1.0       1.0       0.0           2  \n",
       "15073          1152           0.0       1.0       0.0           1  \n",
       "20040          1045           0.0       1.0       0.0           1  \n",
       "24929           939           0.0       1.0       0.0           1  \n",
       "32756           897           1.0       1.0       1.0           2  \n",
       "27334           894           0.0       1.0       0.0           2  \n",
       "627             876           1.0       1.0       0.0           2  \n",
       "792             862           0.0       0.0       0.0           3  "
      ]
     },
     "execution_count": 5,
     "metadata": {},
     "output_type": "execute_result"
    }
   ],
   "source": [
    "# Popularity is defined as mostly reviewed\n",
    "# Top 10 most popular restaurant in Toronto\n",
    "\n",
    "df_TOR.sort_values('review_count',ascending=False).head(10)"
   ]
  },
  {
   "cell_type": "markdown",
   "metadata": {},
   "source": [
    "### Q3: How many Canadian residents(figure out who are Canadian residents by yourself) reviewed the business “Mon Ami Gabi” in last 1 year?"
   ]
  },
  {
   "cell_type": "code",
   "execution_count": 6,
   "metadata": {},
   "outputs": [
    {
     "data": {
      "text/html": [
       "<div>\n",
       "<style scoped>\n",
       "    .dataframe tbody tr th:only-of-type {\n",
       "        vertical-align: middle;\n",
       "    }\n",
       "\n",
       "    .dataframe tbody tr th {\n",
       "        vertical-align: top;\n",
       "    }\n",
       "\n",
       "    .dataframe thead th {\n",
       "        text-align: right;\n",
       "    }\n",
       "</style>\n",
       "<table border=\"1\" class=\"dataframe\">\n",
       "  <thead>\n",
       "    <tr style=\"text-align: right;\">\n",
       "      <th></th>\n",
       "      <th>id</th>\n",
       "      <th>name</th>\n",
       "      <th>address</th>\n",
       "      <th>city</th>\n",
       "      <th>state</th>\n",
       "      <th>stars</th>\n",
       "      <th>review_count</th>\n",
       "      <th>reservations</th>\n",
       "      <th>take_out</th>\n",
       "      <th>delivery</th>\n",
       "      <th>price_range</th>\n",
       "    </tr>\n",
       "  </thead>\n",
       "  <tbody>\n",
       "    <tr>\n",
       "      <td>0</td>\n",
       "      <td>4JNXUYY8wbaaDmk3BPzlWw</td>\n",
       "      <td>Mon Ami Gabi</td>\n",
       "      <td>3655 Las Vegas Blvd S</td>\n",
       "      <td>Las Vegas</td>\n",
       "      <td>NV</td>\n",
       "      <td>4.0</td>\n",
       "      <td>8348</td>\n",
       "      <td>1</td>\n",
       "      <td>1</td>\n",
       "      <td>0</td>\n",
       "      <td>2</td>\n",
       "    </tr>\n",
       "  </tbody>\n",
       "</table>\n",
       "</div>"
      ],
      "text/plain": [
       "                       id          name                address       city  \\\n",
       "0  4JNXUYY8wbaaDmk3BPzlWw  Mon Ami Gabi  3655 Las Vegas Blvd S  Las Vegas   \n",
       "\n",
       "  state  stars  review_count  reservations  take_out  delivery price_range  \n",
       "0    NV    4.0          8348             1         1         0           2  "
      ]
     },
     "execution_count": 6,
     "metadata": {},
     "output_type": "execute_result"
    }
   ],
   "source": [
    "query = \"SELECT * FROM business WHERE name = 'Mon Ami Gabi'\"\n",
    "df = pd.read_sql(query, connection)\n",
    "df"
   ]
  },
  {
   "cell_type": "code",
   "execution_count": 7,
   "metadata": {},
   "outputs": [
    {
     "data": {
      "text/plain": [
       "'4JNXUYY8wbaaDmk3BPzlWw'"
      ]
     },
     "execution_count": 7,
     "metadata": {},
     "output_type": "execute_result"
    }
   ],
   "source": [
    "business_id = df.loc[0,'id']\n",
    "\n",
    "# Get business ID for Mon Ami Gabi\n",
    "business_id"
   ]
  },
  {
   "cell_type": "code",
   "execution_count": 8,
   "metadata": {},
   "outputs": [
    {
     "data": {
      "text/html": [
       "<div>\n",
       "<style scoped>\n",
       "    .dataframe tbody tr th:only-of-type {\n",
       "        vertical-align: middle;\n",
       "    }\n",
       "\n",
       "    .dataframe tbody tr th {\n",
       "        vertical-align: top;\n",
       "    }\n",
       "\n",
       "    .dataframe thead th {\n",
       "        text-align: right;\n",
       "    }\n",
       "</style>\n",
       "<table border=\"1\" class=\"dataframe\">\n",
       "  <thead>\n",
       "    <tr style=\"text-align: right;\">\n",
       "      <th></th>\n",
       "      <th>user_id</th>\n",
       "    </tr>\n",
       "  </thead>\n",
       "  <tbody>\n",
       "    <tr>\n",
       "      <td>0</td>\n",
       "      <td>51DUYf5OcReixM5_hKDIdQ</td>\n",
       "    </tr>\n",
       "  </tbody>\n",
       "</table>\n",
       "</div>"
      ],
      "text/plain": [
       "                  user_id\n",
       "0  51DUYf5OcReixM5_hKDIdQ"
      ]
     },
     "execution_count": 8,
     "metadata": {},
     "output_type": "execute_result"
    }
   ],
   "source": [
    "# Get all users who reviewed Mon Ami Gabi in the last 1 year\n",
    "query = f\"SELECT distinct user_id FROM review WHERE business_id = '{business_id}' and date >= DATE_SUB(NOW(),INTERVAL 1 YEAR)\"\n",
    "df = pd.read_sql(query, connection)\n",
    "# Old dataset might have led to the few numbers of results\n",
    "df"
   ]
  },
  {
   "cell_type": "code",
   "execution_count": 12,
   "metadata": {},
   "outputs": [
    {
     "data": {
      "text/plain": [
       "'51DUYf5OcReixM5_hKDIdQ'"
      ]
     },
     "execution_count": 12,
     "metadata": {},
     "output_type": "execute_result"
    }
   ],
   "source": [
    "user_id = df['user_id']\n",
    "user_id[0]"
   ]
  },
  {
   "cell_type": "code",
   "execution_count": 13,
   "metadata": {},
   "outputs": [],
   "source": [
    "# Get all reviews from those users\n",
    "query = f'''SELECT review.user_id as user_id, business.id as business_id, business.name as business_name, business.state as business_state\n",
    "            FROM review LEFT JOIN business\n",
    "            ON review.business_id = business.id\n",
    "            WHERE review.user_id = '{user_id}'\n",
    "        '''\n",
    "df_users = pd.read_sql(query, connection)"
   ]
  },
  {
   "cell_type": "code",
   "execution_count": 14,
   "metadata": {},
   "outputs": [
    {
     "data": {
      "text/html": [
       "<div>\n",
       "<style scoped>\n",
       "    .dataframe tbody tr th:only-of-type {\n",
       "        vertical-align: middle;\n",
       "    }\n",
       "\n",
       "    .dataframe tbody tr th {\n",
       "        vertical-align: top;\n",
       "    }\n",
       "\n",
       "    .dataframe thead th {\n",
       "        text-align: right;\n",
       "    }\n",
       "</style>\n",
       "<table border=\"1\" class=\"dataframe\">\n",
       "  <thead>\n",
       "    <tr style=\"text-align: right;\">\n",
       "      <th></th>\n",
       "      <th>user_id</th>\n",
       "      <th>business_id</th>\n",
       "      <th>business_name</th>\n",
       "      <th>business_state</th>\n",
       "    </tr>\n",
       "  </thead>\n",
       "  <tbody>\n",
       "  </tbody>\n",
       "</table>\n",
       "</div>"
      ],
      "text/plain": [
       "Empty DataFrame\n",
       "Columns: [user_id, business_id, business_name, business_state]\n",
       "Index: []"
      ]
     },
     "execution_count": 14,
     "metadata": {},
     "output_type": "execute_result"
    }
   ],
   "source": [
    "df_users_CA = df_users[df_users['business_state'].isin(['AB','BC','MB','NB','NL','NT','NS','NU','ON','PE','QC','SK','YT','NF'])]\n",
    "df_users_CA"
   ]
  },
  {
   "cell_type": "code",
   "execution_count": 15,
   "metadata": {},
   "outputs": [],
   "source": [
    "result = df_users_CA.groupby(['user_id']).size().reset_index(name='counts')"
   ]
  },
  {
   "cell_type": "code",
   "execution_count": 16,
   "metadata": {},
   "outputs": [
    {
     "data": {
      "text/html": [
       "<div>\n",
       "<style scoped>\n",
       "    .dataframe tbody tr th:only-of-type {\n",
       "        vertical-align: middle;\n",
       "    }\n",
       "\n",
       "    .dataframe tbody tr th {\n",
       "        vertical-align: top;\n",
       "    }\n",
       "\n",
       "    .dataframe thead th {\n",
       "        text-align: right;\n",
       "    }\n",
       "</style>\n",
       "<table border=\"1\" class=\"dataframe\">\n",
       "  <thead>\n",
       "    <tr style=\"text-align: right;\">\n",
       "      <th></th>\n",
       "      <th>user_id</th>\n",
       "      <th>counts</th>\n",
       "    </tr>\n",
       "  </thead>\n",
       "  <tbody>\n",
       "  </tbody>\n",
       "</table>\n",
       "</div>"
      ],
      "text/plain": [
       "Empty DataFrame\n",
       "Columns: [user_id, counts]\n",
       "Index: []"
      ]
     },
     "execution_count": 16,
     "metadata": {},
     "output_type": "execute_result"
    }
   ],
   "source": [
    "# A user who reviewed more than 10 Canadian restaurants is defined as a Canadian Resident\n",
    "result = result[result['counts'] > 10]\n",
    "result"
   ]
  },
  {
   "cell_type": "markdown",
   "metadata": {},
   "source": [
    "#### No Canadian users reviewed Mon Ami Gabi in the last one year. This might have been due to the fact that the dataset is out of date."
   ]
  },
  {
   "cell_type": "markdown",
   "metadata": {},
   "source": [
    "### Q4: Top 10 most common words in the reviews of the business “Chipotle Mexican Grill” might be helpful and interesting to the business"
   ]
  },
  {
   "cell_type": "code",
   "execution_count": 17,
   "metadata": {},
   "outputs": [],
   "source": [
    "query = \"SELECT * FROM business WHERE name = 'Chipotle Mexican Grill'\"\n",
    "result = pd.read_sql(query, connection)\n",
    "# Get business ID \n",
    "business_id = tuple(result['id'])"
   ]
  },
  {
   "cell_type": "code",
   "execution_count": 18,
   "metadata": {},
   "outputs": [
    {
     "data": {
      "text/html": [
       "<div>\n",
       "<style scoped>\n",
       "    .dataframe tbody tr th:only-of-type {\n",
       "        vertical-align: middle;\n",
       "    }\n",
       "\n",
       "    .dataframe tbody tr th {\n",
       "        vertical-align: top;\n",
       "    }\n",
       "\n",
       "    .dataframe thead th {\n",
       "        text-align: right;\n",
       "    }\n",
       "</style>\n",
       "<table border=\"1\" class=\"dataframe\">\n",
       "  <thead>\n",
       "    <tr style=\"text-align: right;\">\n",
       "      <th></th>\n",
       "      <th>review_text</th>\n",
       "    </tr>\n",
       "  </thead>\n",
       "  <tbody>\n",
       "    <tr>\n",
       "      <td>0</td>\n",
       "      <td>Super disappointed! Literally got plain white ...</td>\n",
       "    </tr>\n",
       "    <tr>\n",
       "      <td>1</td>\n",
       "      <td>Quality of the food is good but what makes me ...</td>\n",
       "    </tr>\n",
       "    <tr>\n",
       "      <td>2</td>\n",
       "      <td>My wife and I stopped in here for lunch again ...</td>\n",
       "    </tr>\n",
       "    <tr>\n",
       "      <td>3</td>\n",
       "      <td>Good Food. Super Friendly. Fast Service. I hop...</td>\n",
       "    </tr>\n",
       "    <tr>\n",
       "      <td>4</td>\n",
       "      <td>Pretty bomb! Got a bowl, gave me free tortilla...</td>\n",
       "    </tr>\n",
       "    <tr>\n",
       "      <td>...</td>\n",
       "      <td>...</td>\n",
       "    </tr>\n",
       "    <tr>\n",
       "      <td>9585</td>\n",
       "      <td>Decent, filling food served fast. Last visit t...</td>\n",
       "    </tr>\n",
       "    <tr>\n",
       "      <td>9586</td>\n",
       "      <td>OUT OF MARGARITAS  ... This should not happen ...</td>\n",
       "    </tr>\n",
       "    <tr>\n",
       "      <td>9587</td>\n",
       "      <td>Great place to stop in for a quick burrito and...</td>\n",
       "    </tr>\n",
       "    <tr>\n",
       "      <td>9588</td>\n",
       "      <td>Only rated it one star because zero was not a ...</td>\n",
       "    </tr>\n",
       "    <tr>\n",
       "      <td>9589</td>\n",
       "      <td>Worst chipotle I have ever been to! They can't...</td>\n",
       "    </tr>\n",
       "  </tbody>\n",
       "</table>\n",
       "<p>9590 rows × 1 columns</p>\n",
       "</div>"
      ],
      "text/plain": [
       "                                            review_text\n",
       "0     Super disappointed! Literally got plain white ...\n",
       "1     Quality of the food is good but what makes me ...\n",
       "2     My wife and I stopped in here for lunch again ...\n",
       "3     Good Food. Super Friendly. Fast Service. I hop...\n",
       "4     Pretty bomb! Got a bowl, gave me free tortilla...\n",
       "...                                                 ...\n",
       "9585  Decent, filling food served fast. Last visit t...\n",
       "9586  OUT OF MARGARITAS  ... This should not happen ...\n",
       "9587  Great place to stop in for a quick burrito and...\n",
       "9588  Only rated it one star because zero was not a ...\n",
       "9589  Worst chipotle I have ever been to! They can't...\n",
       "\n",
       "[9590 rows x 1 columns]"
      ]
     },
     "execution_count": 18,
     "metadata": {},
     "output_type": "execute_result"
    }
   ],
   "source": [
    "query = f'''SELECT text as review_text\n",
    "            FROM review \n",
    "            WHERE business_id in {business_id}\n",
    "        '''\n",
    "df_reviews = pd.read_sql(query, connection)\n",
    "df_reviews"
   ]
  },
  {
   "cell_type": "code",
   "execution_count": 19,
   "metadata": {},
   "outputs": [],
   "source": [
    "from collections import Counter\n",
    "import string\n",
    "def remove_punctuations(text):\n",
    "    for punctuation in (string.punctuation):\n",
    "        text = text.replace(punctuation, '')\n",
    "    \n",
    "    # Replace newline character\n",
    "    text = text.replace('\\n', '')\n",
    "    return text.lower()"
   ]
  },
  {
   "cell_type": "code",
   "execution_count": 20,
   "metadata": {},
   "outputs": [
    {
     "data": {
      "text/plain": [
       "0       super disappointed literally got plain white r...\n",
       "1       quality of the food is good but what makes me ...\n",
       "2       my wife and i stopped in here for lunch again ...\n",
       "3       good food super friendly fast service i hope t...\n",
       "4       pretty bomb got a bowl gave me free tortillas ...\n",
       "                              ...                        \n",
       "9585    decent filling food served fast last visit the...\n",
       "9586    out of margaritas   this should not happen in ...\n",
       "9587    great place to stop in for a quick burrito and...\n",
       "9588    only rated it one star because zero was not a ...\n",
       "9589    worst chipotle i have ever been to they cant s...\n",
       "Name: review_clean, Length: 9590, dtype: object"
      ]
     },
     "execution_count": 20,
     "metadata": {},
     "output_type": "execute_result"
    }
   ],
   "source": [
    "df_reviews[\"review_clean\"] = df_reviews['review_text'].apply(remove_punctuations)\n",
    "df_reviews[\"review_clean\"]"
   ]
  },
  {
   "cell_type": "code",
   "execution_count": 21,
   "metadata": {},
   "outputs": [
    {
     "data": {
      "text/plain": [
       "[('the', 42591),\n",
       " ('i', 28687),\n",
       " ('and', 28313),\n",
       " ('to', 24105),\n",
       " ('a', 20349),\n",
       " ('is', 13652),\n",
       " ('of', 12889),\n",
       " ('was', 12085),\n",
       " ('it', 11486),\n",
       " ('this', 10962)]"
      ]
     },
     "execution_count": 21,
     "metadata": {},
     "output_type": "execute_result"
    }
   ],
   "source": [
    "# Top 10 most common words for Chipotle Mexican Grill\n",
    "Counter(\" \".join(df_reviews[\"review_clean\"]).split()).most_common(10)"
   ]
  },
  {
   "cell_type": "markdown",
   "metadata": {},
   "source": [
    "### Q5: What’s the percentage of users, who reviewed ​“Mon Ami Gabi”, and also reviewed at least 10 other restaurants located in Ontario?"
   ]
  },
  {
   "cell_type": "code",
   "execution_count": 22,
   "metadata": {},
   "outputs": [
    {
     "name": "stdout",
     "output_type": "stream",
     "text": [
      "<class 'pandas.core.frame.DataFrame'>\n",
      "RangeIndex: 1 entries, 0 to 0\n",
      "Data columns (total 11 columns):\n",
      "id              1 non-null object\n",
      "name            1 non-null object\n",
      "address         1 non-null object\n",
      "city            1 non-null object\n",
      "state           1 non-null object\n",
      "stars           1 non-null float64\n",
      "review_count    1 non-null int64\n",
      "reservations    1 non-null int64\n",
      "take_out        1 non-null int64\n",
      "delivery        1 non-null int64\n",
      "price_range     1 non-null object\n",
      "dtypes: float64(1), int64(4), object(6)\n",
      "memory usage: 216.0+ bytes\n"
     ]
    },
    {
     "data": {
      "text/plain": [
       "'4JNXUYY8wbaaDmk3BPzlWw'"
      ]
     },
     "execution_count": 22,
     "metadata": {},
     "output_type": "execute_result"
    }
   ],
   "source": [
    "query = \"SELECT * FROM business WHERE name = 'Mon Ami Gabi'\"\n",
    "df = pd.read_sql(query, connection)\n",
    "df.info()\n",
    "business_id = df.loc[0,'id']\n",
    "\n",
    "# Get business ID for Mon Ami Gabi\n",
    "business_id"
   ]
  },
  {
   "cell_type": "code",
   "execution_count": 23,
   "metadata": {},
   "outputs": [],
   "source": [
    "# Get all users who reviewed Mon Ami Gabi\n",
    "query = f\"SELECT distinct user_id FROM review WHERE business_id = '{business_id}'\"\n",
    "df = pd.read_sql(query, connection)\n",
    "user_id = tuple(df['user_id'])"
   ]
  },
  {
   "cell_type": "code",
   "execution_count": 24,
   "metadata": {},
   "outputs": [],
   "source": [
    "# Get all reviews from those users\n",
    "query = f'''SELECT review.user_id as user_id, business.id as business_id, business.name as business_name, business.state as business_state\n",
    "            FROM review LEFT JOIN business\n",
    "            ON review.business_id = business.id\n",
    "            WHERE review.user_id in {user_id}\n",
    "        '''\n",
    "df_users = pd.read_sql(query, connection)"
   ]
  },
  {
   "cell_type": "code",
   "execution_count": 25,
   "metadata": {},
   "outputs": [],
   "source": [
    "df_users_ON = df_users[df_users['business_state'] == 'ON']"
   ]
  },
  {
   "cell_type": "code",
   "execution_count": 26,
   "metadata": {},
   "outputs": [],
   "source": [
    "df_users_ON_group = df_users_ON.groupby('user_id').size().reset_index(name='counts')"
   ]
  },
  {
   "cell_type": "code",
   "execution_count": 30,
   "metadata": {},
   "outputs": [],
   "source": [
    "# Number of users who reviewed 'Mon Ami Gabi' and at least 10 other restaurants located in ON\n",
    "result = df_users_ON_group[df_users_ON_group['counts'] >= 10]"
   ]
  },
  {
   "cell_type": "code",
   "execution_count": 31,
   "metadata": {},
   "outputs": [
    {
     "data": {
      "text/html": [
       "<div>\n",
       "<style scoped>\n",
       "    .dataframe tbody tr th:only-of-type {\n",
       "        vertical-align: middle;\n",
       "    }\n",
       "\n",
       "    .dataframe tbody tr th {\n",
       "        vertical-align: top;\n",
       "    }\n",
       "\n",
       "    .dataframe thead th {\n",
       "        text-align: right;\n",
       "    }\n",
       "</style>\n",
       "<table border=\"1\" class=\"dataframe\">\n",
       "  <thead>\n",
       "    <tr style=\"text-align: right;\">\n",
       "      <th></th>\n",
       "      <th>count(*)</th>\n",
       "    </tr>\n",
       "  </thead>\n",
       "  <tbody>\n",
       "    <tr>\n",
       "      <td>0</td>\n",
       "      <td>1637138</td>\n",
       "    </tr>\n",
       "  </tbody>\n",
       "</table>\n",
       "</div>"
      ],
      "text/plain": [
       "   count(*)\n",
       "0   1637138"
      ]
     },
     "execution_count": 31,
     "metadata": {},
     "output_type": "execute_result"
    }
   ],
   "source": [
    "# Get total number of users\n",
    "query = \"SELECT count(*) FROM user\"\n",
    "result = pd.read_sql(query, connection)\n",
    "result"
   ]
  },
  {
   "cell_type": "code",
   "execution_count": 32,
   "metadata": {},
   "outputs": [
    {
     "data": {
      "text/plain": [
       "0.005069823069283102"
      ]
     },
     "execution_count": 32,
     "metadata": {},
     "output_type": "execute_result"
    }
   ],
   "source": [
    "percentage = 83/1637138 * 100\n",
    "percentage"
   ]
  },
  {
   "cell_type": "markdown",
   "metadata": {},
   "source": [
    "##### About 0.0051% users who reviewed Mon Ami Gabi also reviewed at least 10 restaurants located in Ontario"
   ]
  },
  {
   "cell_type": "markdown",
   "metadata": {},
   "source": [
    "### Q6: Please think about 2 more analytics, which provide insights for existing/future ​Business Owners​, to make important decisions regarding new business or business expansion."
   ]
  },
  {
   "cell_type": "markdown",
   "metadata": {},
   "source": [
    "#### 1. Does business attributes like having delivery/takeout options, having parking space, having reservations contribute to higher rating?"
   ]
  },
  {
   "cell_type": "markdown",
   "metadata": {},
   "source": [
    "#### 2. What words in a review are important and associated with positive reviews for that specific type of restaurant. Business owners might want to purchase fake reviews with those words to increase popularity."
   ]
  }
 ],
 "metadata": {
  "kernelspec": {
   "display_name": "Python 3",
   "language": "python",
   "name": "python3"
  },
  "language_info": {
   "codemirror_mode": {
    "name": "ipython",
    "version": 3
   },
   "file_extension": ".py",
   "mimetype": "text/x-python",
   "name": "python",
   "nbconvert_exporter": "python",
   "pygments_lexer": "ipython3",
   "version": "3.7.3"
  }
 },
 "nbformat": 4,
 "nbformat_minor": 2
}
